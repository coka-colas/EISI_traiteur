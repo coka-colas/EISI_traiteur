{
 "cells": [
  {
   "cell_type": "markdown",
   "id": "7325070d",
   "metadata": {},
   "source": [
    "# Test Python\n",
    "\n",
    "Nom : Chassagnon\n",
    "\n",
    "Prénom : Colas"
   ]
  },
  {
   "cell_type": "markdown",
   "id": "4a66a196",
   "metadata": {},
   "source": [
    "## Exercice 3 : tableau de bord\n",
    "\n",
    "Pour avoir une vision synthétique des informations, une nouvelle version du programme est mise en oeuvre. Le responsable d'exploitation souhaite disposer d'un tableau de bord affichant la température moyenne mesurée dans la journée, la température maxi et la température mini.\n",
    "\n",
    "Vous devrez obtenir l'affichage ci-dessous:\n",
    "```\n",
    "Tableau de bord\n",
    "---------------------------------------------------------\n",
    "                moy min max\n",
    "chambrefroide01 3.4 2.5 6.4\n",
    "chambrefroide02 2.8 2.5 4.1\n",
    "chambrefroide03 2.7 2.5 3.6\n",
    "```"
   ]
  },
  {
   "cell_type": "code",
   "execution_count": null,
   "id": "7ae49dd4",
   "metadata": {},
   "outputs": [
    {
     "name": "stdout",
     "output_type": "stream",
     "text": [
      " \n",
      " \n",
      "\n",
      "Tableau de bord - Essai 2\n",
      "---------------------------------------------------------\n",
      "                moy min max\n",
      "chambrefroide01 3.4 2.5 6.4\n",
      "chambrefroide02 2.8 2.5 4.1\n",
      "chambrefroide03 2.7 2.5 3.6\n"
     ]
    }
   ],
   "source": [
    "# Code source exercice 3\n",
    "\n",
    "# print(\"Tableau de bord - Essai 1\")\n",
    "# print('-'*57)\n",
    "\n",
    "# entete = [' '*10, 'moy', 'min', 'max']\n",
    "# ligne1 = ['chambrefroide01', 3.4, 2.5, 6.4]\n",
    "# ligne2 = ['chambrefroide02', 2.8, 2.5, 4.1]\n",
    "# ligne3 = ['chambrefroide03', 2.7, 2.5, 3.6]\n",
    "\n",
    "# print(entete)\n",
    "# print(ligne1)\n",
    "# print(ligne2)\n",
    "# print(ligne3)\n",
    "\n",
    "# ESSAI AVEC UN TRUC MOINS DEBILE\n",
    "\n",
    "\n",
    "import csv\n",
    "\n",
    "print(' \\n'*2 )\n",
    "print(\"Tableau de bord - Essai 2\")\n",
    "print('-'*57)\n",
    "\n",
    "# On crée un dictionnaire car les listes ne sont pas formées tel qu'on veut dans le CSV, on voudrait les températures à la suite\n",
    "chambres = {}\n",
    "\n",
    "# Ouverture du fichier de données\n",
    "with open('traiteur.csv') as csv_file:\n",
    "    contenu_csv = csv.reader(csv_file, delimiter=';')\n",
    "\n",
    "    # Nécessité d'ignorer la première ligne (en-têtes)\n",
    "    next(contenu_csv)   \n",
    "\n",
    "    for champ in contenu_csv:\n",
    "        chambre_froide = champ[2]\n",
    "        temperature_corrigee = float(champ[3].replace(',', '.'))\n",
    "        champ[3] = temperature_corrigee\n",
    "        if champ[2] not in chambres:\n",
    "            chambres[chambre_froide] = []   # On crée une nouvelle liste avec le nom de la chambre pour pouvoir ajouter les temperatures\n",
    "        chambres[chambre_froide].append(temperature_corrigee)   # On ajoute la température à la liste\n",
    "\n",
    "print(' '*15, 'moy', 'min', 'max')\n",
    "for a, b in chambres.items():\n",
    "    minimum = min(b)\n",
    "    maximum = max(b)\n",
    "    moyenne = round((sum(b)/len(b)), 1)\n",
    "    print(a, moyenne, minimum, maximum)\n",
    "\n"
   ]
  },
  {
   "cell_type": "code",
   "execution_count": 8,
   "id": "49a4a521",
   "metadata": {},
   "outputs": [
    {
     "name": "stdout",
     "output_type": "stream",
     "text": [
      "                moy min max\n",
      "chambrefroide01 3.4 2.5 6.4\n",
      "chambrefroide02 2.8 2.5 4.1\n",
      "chambrefroide03 2.7 2.5 3.6\n"
     ]
    }
   ],
   "source": [
    "import csv\n",
    "\n",
    "chambres = {}\n",
    "\n",
    "with open('traiteur.csv') as csv_file:\n",
    "    contenu_csv = csv.reader(csv_file, delimiter=';')\n",
    "\n",
    "    next(contenu_csv)\n",
    "\n",
    "    for champ in contenu_csv:\n",
    "        chambre = champ[2]\n",
    "        temperature = float(champ[3].replace(',','.'))\n",
    "        if champ[2] not in chambres:\n",
    "            chambres[chambre] = []\n",
    "        chambres[chambre].append(temperature)\n",
    "\n",
    "    print(' '*15, 'moy', 'min', 'max')\n",
    "    for chambre, temperature in chambres.items():\n",
    "        moyenne = round(sum(temperature)/len(temperature), 1)\n",
    "        minimum = min(temperature)\n",
    "        maximum = max(temperature)\n",
    "        print(chambre, moyenne, minimum, maximum)"
   ]
  }
 ],
 "metadata": {
  "kernelspec": {
   "display_name": "Python 3",
   "language": "python",
   "name": "python3"
  },
  "language_info": {
   "codemirror_mode": {
    "name": "ipython",
    "version": 3
   },
   "file_extension": ".py",
   "mimetype": "text/x-python",
   "name": "python",
   "nbconvert_exporter": "python",
   "pygments_lexer": "ipython3",
   "version": "3.11.9"
  }
 },
 "nbformat": 4,
 "nbformat_minor": 5
}
